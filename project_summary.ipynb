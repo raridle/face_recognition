{
 "cells": [
  {
   "cell_type": "code",
   "execution_count": null,
   "metadata": {},
   "outputs": [],
   "source": [
    "#test하고 싶은 이미지 align, crop 하기\n",
    "import sys, dlib, cv2, openface, os, shutil\n",
    "import matplotlib.pyplot as plt\n",
    "import numpy as np\n",
    "from skimage import data, color\n",
    "from skimage.transform import rescale, resize, downscale_local_mean\n",
    "import matplotlib.image as mpimg\n",
    "\n",
    "print(\"Start program\")\n",
    "\n",
    "#embedding을 해 주는 신경망이 저장된 경로\n",
    "predictor_model = \"shape_predictor_68_face_landmarks.dat\" \n",
    "\n",
    "face_detector = dlib.get_frontal_face_detector()\n",
    "face_pose_predictor = dlib.shape_predictor(predictor_model)\n",
    "face_aligner = openface.AlignDlib(predictor_model)\n",
    "\n",
    "def align_face(file, img_dim):\n",
    "    img = cv2.imread(os.path.join('./', file))\n",
    "    assert img is not None\n",
    "    detected_faces = face_detector(img, 1)\n",
    "    # 주어진 이미지에서 얼굴이 1개가 맞는지 체크\n",
    "    assert len(detected_faces) is 1\n",
    "    face_rect = detected_faces[0]\n",
    "    # 얼굴의 포즈를 가져 와서 정렬함\n",
    "    aligned_face = face_aligner.align(534, img, face_rect, landmarkIndices=openface.AlignDlib.OUTER_EYES_AND_NOSE)\n",
    "    return aligned_face"
   ]
  },
  {
   "cell_type": "code",
   "execution_count": null,
   "metadata": {},
   "outputs": [],
   "source": [
    "#원하는 이미지 넣기 예시)공유\n",
    "image = align_face('./공유.jpg', 784)\n",
    "#plt.imshow(image)"
   ]
  },
  {
   "cell_type": "code",
   "execution_count": null,
   "metadata": {},
   "outputs": [],
   "source": [
    "#model load (모델에는 아키텍처와 가중치가 모두 저장되어 있음)\n",
    "from tensorflow import keras\n",
    "from keras.models import load_model\n",
    "model = load_model(\"mtensorflow_model.h10\")"
   ]
  },
  {
   "cell_type": "code",
   "execution_count": null,
   "metadata": {},
   "outputs": [],
   "source": [
    "#test!\n",
    "from PIL import Image\n",
    "import os, glob, numpy as np\n",
    "import sys, os\n",
    "import matplotlib.pylab as plt\n",
    "import PIL.Image as pilimg\n",
    "import numpy as np\n",
    "import sys, dlib, cv2, openface, os, shutil\n",
    "import matplotlib.pyplot as plt\n",
    "import numpy as np\n",
    "from skimage import data, color\n",
    "from skimage.transform import rescale, resize, downscale_local_mean\n",
    "import matplotlib.image as mpimg\n",
    "def testgogo(f):\n",
    "    X = []\n",
    "    img_origin = mpimg.imread(f)\n",
    "    img_origin = color.rgb2gray(img_origin)\n",
    "    img_shape = img_origin.shape\n",
    "    img=(np.full(img_shape, 1)-img_origin)*255\n",
    "    img=resize(img,(28,28))\n",
    "    img=img.astype(int)\n",
    "    data = np.asarray(img)\n",
    "    tdata = np.expand_dims(data, axis=0)\n",
    "    X.append(tdata)\n",
    "    X = np.array(X)\n",
    "    prediction = model.predict(X)\n",
    "    np.set_printoptions(formatter={'float': lambda x: \"{0:0.3f}\".format(x)})\n",
    "\n",
    "    for i in prediction:\n",
    "        pre_ans = i.argmax()  # 예측 레이블\n",
    "        print(i)\n",
    "        print(i[pre_ans]*100, '%')\n",
    "        print(pre_ans)\n",
    "        if pre_ans==0: print(\"컴퓨터가 예측한 사람은 조소비\")\n",
    "        if pre_ans== 1: print(\"컴퓨터가 예측한 사람은 홍정현\")\n",
    "        if pre_ans== 2: print(\"컴퓨터가 예측한 사람은 이지호\")\n",
    "        if pre_ans== 3: print(\"컴퓨터가 예측한 사람은 송예은\")\n",
    "        if pre_ans== 4: print(\"컴퓨터가 예측한 사람은 이윤선\")\n",
    "    image = pilimg.open(f)\n",
    "    image.show()\n",
    "    pix = np.array(image)\n",
    "    plt.imshow(pix)"
   ]
  },
  {
   "cell_type": "code",
   "execution_count": null,
   "metadata": {},
   "outputs": [],
   "source": [
    "testgogo('./공유.jpg')"
   ]
  },
  {
   "cell_type": "code",
   "execution_count": null,
   "metadata": {},
   "outputs": [],
   "source": []
  }
 ],
 "metadata": {
  "kernelspec": {
   "display_name": "Python 2",
   "language": "python",
   "name": "python2"
  },
  "language_info": {
   "codemirror_mode": {
    "name": "ipython",
    "version": 2
   },
   "file_extension": ".py",
   "mimetype": "text/x-python",
   "name": "python",
   "nbconvert_exporter": "python",
   "pygments_lexer": "ipython2",
   "version": "2.7.12"
  }
 },
 "nbformat": 4,
 "nbformat_minor": 2
}
